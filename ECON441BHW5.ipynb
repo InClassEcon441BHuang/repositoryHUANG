{
  "nbformat": 4,
  "nbformat_minor": 0,
  "metadata": {
    "colab": {
      "provenance": []
    },
    "kernelspec": {
      "name": "python3",
      "display_name": "Python 3"
    },
    "language_info": {
      "name": "python"
    }
  },
  "cells": [
    {
      "cell_type": "markdown",
      "source": [
        "# 0.) Import the US Perminent Visas using zip extractor"
      ],
      "metadata": {
        "id": "7ywSRtNI4s5h"
      }
    },
    {
      "cell_type": "code",
      "execution_count": 52,
      "metadata": {
        "id": "nsG1QV154GYZ"
      },
      "outputs": [],
      "source": [
        "import pandas as pd\n",
        "from google.colab import drive\n",
        "import matplotlib.pyplot as plt\n",
        "import numpy as np"
      ]
    },
    {
      "cell_type": "code",
      "source": [
        "drive.mount('/content/gdrive/', force_remount = True)"
      ],
      "metadata": {
        "colab": {
          "base_uri": "https://localhost:8080/"
        },
        "id": "Iku0T8Ou4Lcu",
        "outputId": "1a4083dd-68b6-4126-a8d7-8b0230446c1e"
      },
      "execution_count": 53,
      "outputs": [
        {
          "output_type": "stream",
          "name": "stdout",
          "text": [
            "Mounted at /content/gdrive/\n"
          ]
        }
      ]
    },
    {
      "cell_type": "code",
      "source": [
        "import zipfile"
      ],
      "metadata": {
        "colab": {
          "base_uri": "https://localhost:8080/"
        },
        "id": "Q7XmCWs_rULl",
        "outputId": "266b7a9b-e6d4-4670-c58a-736704f2a167"
      },
      "execution_count": 54,
      "outputs": [
        {
          "output_type": "stream",
          "name": "stderr",
          "text": [
            "Exception ignored in: <function ZipFile.__del__ at 0x7f05f8618700>\n",
            "Traceback (most recent call last):\n",
            "  File \"/usr/lib/python3.8/zipfile.py\", line 1821, in __del__\n",
            "  File \"/usr/lib/python3.8/zipfile.py\", line 1843, in close\n",
            "  File \"/usr/lib/python3.8/zipfile.py\", line 1953, in _fpclose\n",
            "OSError: [Errno 107] Transport endpoint is not connected\n",
            "/usr/local/lib/python3.8/dist-packages/IPython/core/interactiveshell.py:3326: DtypeWarning: Columns (0,1,2,3,4,5,6,7,10,11,16,17,20,21,22,25,26,27,28,29,30,31,32,33,34,35,36,37,39,40,41,42,43,44,45,47,48,49,50,51,52,53,55,56,57,58,59,60,61,63,64,65,66,68,69,70,71,72,73,74,77,79,80,81,82,83,84,85,86,87,88,89,90,91,92,93,94,95,100,101,103,104,105,106,107,108,109,110,111,112,113,114,115,116,117,118,119,120,121,122,123,124,125,126,127,128,129,130,131,132,133,134,135,136,137,138,139,140,141,142,143,144,145,146,147,148,149,150,153) have mixed types.Specify dtype option on import or set low_memory=False.\n",
            "  exec(code_obj, self.user_global_ns, self.user_ns)\n"
          ]
        }
      ]
    },
    {
      "cell_type": "code",
      "source": [
        "zf = zipfile.ZipFile(\"/content/gdrive/MyDrive/ECON441B/us_perm_visas.csv.zip\") \n",
        "df = pd.read_csv(zf.open('us_perm_visas.csv'))"
      ],
      "metadata": {
        "colab": {
          "base_uri": "https://localhost:8080/"
        },
        "id": "oaHn4TDB01nt",
        "outputId": "d6afae05-6ce3-4335-8c08-cf3a5e91d800"
      },
      "execution_count": 96,
      "outputs": [
        {
          "output_type": "stream",
          "name": "stderr",
          "text": [
            "/usr/local/lib/python3.8/dist-packages/IPython/core/interactiveshell.py:3326: DtypeWarning: Columns (0,1,2,3,4,5,6,7,10,11,16,17,20,21,22,25,26,27,28,29,30,31,32,33,34,35,36,37,39,40,41,42,43,44,45,47,48,49,50,51,52,53,55,56,57,58,59,60,61,63,64,65,66,68,69,70,71,72,73,74,77,79,80,81,82,83,84,85,86,87,88,89,90,91,92,93,94,95,100,101,103,104,105,106,107,108,109,110,111,112,113,114,115,116,117,118,119,120,121,122,123,124,125,126,127,128,129,130,131,132,133,134,135,136,137,138,139,140,141,142,143,144,145,146,147,148,149,150,153) have mixed types.Specify dtype option on import or set low_memory=False.\n",
            "  exec(code_obj, self.user_global_ns, self.user_ns)\n"
          ]
        }
      ]
    },
    {
      "cell_type": "markdown",
      "source": [
        "# 2.) Choose 4 features you think are important. Case_status is your target variable\n"
      ],
      "metadata": {
        "id": "lbkpNPyN-Gnk"
      }
    },
    {
      "cell_type": "code",
      "source": [
        "df.head()"
      ],
      "metadata": {
        "id": "cNu6ysyV988v",
        "colab": {
          "base_uri": "https://localhost:8080/",
          "height": 382
        },
        "outputId": "54d36409-d9ae-4924-bd1b-adfcf7691ec4"
      },
      "execution_count": 69,
      "outputs": [
        {
          "output_type": "execute_result",
          "data": {
            "text/plain": [
              "  add_these_pw_job_title_9089 agent_city agent_firm_name agent_state  \\\n",
              "0                         NaN        NaN             NaN         NaN   \n",
              "1                         NaN        NaN             NaN         NaN   \n",
              "2                         NaN        NaN             NaN         NaN   \n",
              "3                         NaN        NaN             NaN         NaN   \n",
              "4                         NaN        NaN             NaN         NaN   \n",
              "\n",
              "  application_type        case_no case_number case_received_date case_status  \\\n",
              "0             PERM  A-07323-97014         NaN                NaN   Certified   \n",
              "1             PERM  A-07332-99439         NaN                NaN      Denied   \n",
              "2             PERM  A-07333-99643         NaN                NaN   Certified   \n",
              "3             PERM  A-07339-01930         NaN                NaN   Certified   \n",
              "4             PERM  A-07345-03565         NaN                NaN   Certified   \n",
              "\n",
              "  class_of_admission  ... ri_pvt_employment_firm_to ri_us_workers_considered  \\\n",
              "0                J-1  ...                       NaN                      NaN   \n",
              "1                B-2  ...                       NaN                      NaN   \n",
              "2               H-1B  ...                       NaN                      NaN   \n",
              "3                B-2  ...                       NaN                      NaN   \n",
              "4                L-1  ...                       NaN                      NaN   \n",
              "\n",
              "  schd_a_sheepherder     us_economic_sector wage_offer_from_9089  \\\n",
              "0                NaN                     IT              75629.0   \n",
              "1                NaN  Other Economic Sector              37024.0   \n",
              "2                NaN              Aerospace              47923.0   \n",
              "3                NaN  Other Economic Sector                10.97   \n",
              "4                NaN           Advanced Mfg             100000.0   \n",
              "\n",
              "  wage_offer_to_9089 wage_offer_unit_of_pay_9089 wage_offered_from_9089  \\\n",
              "0                NaN                          yr                    NaN   \n",
              "1                NaN                          yr                    NaN   \n",
              "2                NaN                          yr                    NaN   \n",
              "3                NaN                          hr                    NaN   \n",
              "4                NaN                          yr                    NaN   \n",
              "\n",
              "  wage_offered_to_9089  wage_offered_unit_of_pay_9089  \n",
              "0                  NaN                            NaN  \n",
              "1                  NaN                            NaN  \n",
              "2                  NaN                            NaN  \n",
              "3                  NaN                            NaN  \n",
              "4                  NaN                            NaN  \n",
              "\n",
              "[5 rows x 154 columns]"
            ],
            "text/html": [
              "\n",
              "  <div id=\"df-cd133d4f-8546-4123-8974-18857c92b4e9\">\n",
              "    <div class=\"colab-df-container\">\n",
              "      <div>\n",
              "<style scoped>\n",
              "    .dataframe tbody tr th:only-of-type {\n",
              "        vertical-align: middle;\n",
              "    }\n",
              "\n",
              "    .dataframe tbody tr th {\n",
              "        vertical-align: top;\n",
              "    }\n",
              "\n",
              "    .dataframe thead th {\n",
              "        text-align: right;\n",
              "    }\n",
              "</style>\n",
              "<table border=\"1\" class=\"dataframe\">\n",
              "  <thead>\n",
              "    <tr style=\"text-align: right;\">\n",
              "      <th></th>\n",
              "      <th>add_these_pw_job_title_9089</th>\n",
              "      <th>agent_city</th>\n",
              "      <th>agent_firm_name</th>\n",
              "      <th>agent_state</th>\n",
              "      <th>application_type</th>\n",
              "      <th>case_no</th>\n",
              "      <th>case_number</th>\n",
              "      <th>case_received_date</th>\n",
              "      <th>case_status</th>\n",
              "      <th>class_of_admission</th>\n",
              "      <th>...</th>\n",
              "      <th>ri_pvt_employment_firm_to</th>\n",
              "      <th>ri_us_workers_considered</th>\n",
              "      <th>schd_a_sheepherder</th>\n",
              "      <th>us_economic_sector</th>\n",
              "      <th>wage_offer_from_9089</th>\n",
              "      <th>wage_offer_to_9089</th>\n",
              "      <th>wage_offer_unit_of_pay_9089</th>\n",
              "      <th>wage_offered_from_9089</th>\n",
              "      <th>wage_offered_to_9089</th>\n",
              "      <th>wage_offered_unit_of_pay_9089</th>\n",
              "    </tr>\n",
              "  </thead>\n",
              "  <tbody>\n",
              "    <tr>\n",
              "      <th>0</th>\n",
              "      <td>NaN</td>\n",
              "      <td>NaN</td>\n",
              "      <td>NaN</td>\n",
              "      <td>NaN</td>\n",
              "      <td>PERM</td>\n",
              "      <td>A-07323-97014</td>\n",
              "      <td>NaN</td>\n",
              "      <td>NaN</td>\n",
              "      <td>Certified</td>\n",
              "      <td>J-1</td>\n",
              "      <td>...</td>\n",
              "      <td>NaN</td>\n",
              "      <td>NaN</td>\n",
              "      <td>NaN</td>\n",
              "      <td>IT</td>\n",
              "      <td>75629.0</td>\n",
              "      <td>NaN</td>\n",
              "      <td>yr</td>\n",
              "      <td>NaN</td>\n",
              "      <td>NaN</td>\n",
              "      <td>NaN</td>\n",
              "    </tr>\n",
              "    <tr>\n",
              "      <th>1</th>\n",
              "      <td>NaN</td>\n",
              "      <td>NaN</td>\n",
              "      <td>NaN</td>\n",
              "      <td>NaN</td>\n",
              "      <td>PERM</td>\n",
              "      <td>A-07332-99439</td>\n",
              "      <td>NaN</td>\n",
              "      <td>NaN</td>\n",
              "      <td>Denied</td>\n",
              "      <td>B-2</td>\n",
              "      <td>...</td>\n",
              "      <td>NaN</td>\n",
              "      <td>NaN</td>\n",
              "      <td>NaN</td>\n",
              "      <td>Other Economic Sector</td>\n",
              "      <td>37024.0</td>\n",
              "      <td>NaN</td>\n",
              "      <td>yr</td>\n",
              "      <td>NaN</td>\n",
              "      <td>NaN</td>\n",
              "      <td>NaN</td>\n",
              "    </tr>\n",
              "    <tr>\n",
              "      <th>2</th>\n",
              "      <td>NaN</td>\n",
              "      <td>NaN</td>\n",
              "      <td>NaN</td>\n",
              "      <td>NaN</td>\n",
              "      <td>PERM</td>\n",
              "      <td>A-07333-99643</td>\n",
              "      <td>NaN</td>\n",
              "      <td>NaN</td>\n",
              "      <td>Certified</td>\n",
              "      <td>H-1B</td>\n",
              "      <td>...</td>\n",
              "      <td>NaN</td>\n",
              "      <td>NaN</td>\n",
              "      <td>NaN</td>\n",
              "      <td>Aerospace</td>\n",
              "      <td>47923.0</td>\n",
              "      <td>NaN</td>\n",
              "      <td>yr</td>\n",
              "      <td>NaN</td>\n",
              "      <td>NaN</td>\n",
              "      <td>NaN</td>\n",
              "    </tr>\n",
              "    <tr>\n",
              "      <th>3</th>\n",
              "      <td>NaN</td>\n",
              "      <td>NaN</td>\n",
              "      <td>NaN</td>\n",
              "      <td>NaN</td>\n",
              "      <td>PERM</td>\n",
              "      <td>A-07339-01930</td>\n",
              "      <td>NaN</td>\n",
              "      <td>NaN</td>\n",
              "      <td>Certified</td>\n",
              "      <td>B-2</td>\n",
              "      <td>...</td>\n",
              "      <td>NaN</td>\n",
              "      <td>NaN</td>\n",
              "      <td>NaN</td>\n",
              "      <td>Other Economic Sector</td>\n",
              "      <td>10.97</td>\n",
              "      <td>NaN</td>\n",
              "      <td>hr</td>\n",
              "      <td>NaN</td>\n",
              "      <td>NaN</td>\n",
              "      <td>NaN</td>\n",
              "    </tr>\n",
              "    <tr>\n",
              "      <th>4</th>\n",
              "      <td>NaN</td>\n",
              "      <td>NaN</td>\n",
              "      <td>NaN</td>\n",
              "      <td>NaN</td>\n",
              "      <td>PERM</td>\n",
              "      <td>A-07345-03565</td>\n",
              "      <td>NaN</td>\n",
              "      <td>NaN</td>\n",
              "      <td>Certified</td>\n",
              "      <td>L-1</td>\n",
              "      <td>...</td>\n",
              "      <td>NaN</td>\n",
              "      <td>NaN</td>\n",
              "      <td>NaN</td>\n",
              "      <td>Advanced Mfg</td>\n",
              "      <td>100000.0</td>\n",
              "      <td>NaN</td>\n",
              "      <td>yr</td>\n",
              "      <td>NaN</td>\n",
              "      <td>NaN</td>\n",
              "      <td>NaN</td>\n",
              "    </tr>\n",
              "  </tbody>\n",
              "</table>\n",
              "<p>5 rows × 154 columns</p>\n",
              "</div>\n",
              "      <button class=\"colab-df-convert\" onclick=\"convertToInteractive('df-cd133d4f-8546-4123-8974-18857c92b4e9')\"\n",
              "              title=\"Convert this dataframe to an interactive table.\"\n",
              "              style=\"display:none;\">\n",
              "        \n",
              "  <svg xmlns=\"http://www.w3.org/2000/svg\" height=\"24px\"viewBox=\"0 0 24 24\"\n",
              "       width=\"24px\">\n",
              "    <path d=\"M0 0h24v24H0V0z\" fill=\"none\"/>\n",
              "    <path d=\"M18.56 5.44l.94 2.06.94-2.06 2.06-.94-2.06-.94-.94-2.06-.94 2.06-2.06.94zm-11 1L8.5 8.5l.94-2.06 2.06-.94-2.06-.94L8.5 2.5l-.94 2.06-2.06.94zm10 10l.94 2.06.94-2.06 2.06-.94-2.06-.94-.94-2.06-.94 2.06-2.06.94z\"/><path d=\"M17.41 7.96l-1.37-1.37c-.4-.4-.92-.59-1.43-.59-.52 0-1.04.2-1.43.59L10.3 9.45l-7.72 7.72c-.78.78-.78 2.05 0 2.83L4 21.41c.39.39.9.59 1.41.59.51 0 1.02-.2 1.41-.59l7.78-7.78 2.81-2.81c.8-.78.8-2.07 0-2.86zM5.41 20L4 18.59l7.72-7.72 1.47 1.35L5.41 20z\"/>\n",
              "  </svg>\n",
              "      </button>\n",
              "      \n",
              "  <style>\n",
              "    .colab-df-container {\n",
              "      display:flex;\n",
              "      flex-wrap:wrap;\n",
              "      gap: 12px;\n",
              "    }\n",
              "\n",
              "    .colab-df-convert {\n",
              "      background-color: #E8F0FE;\n",
              "      border: none;\n",
              "      border-radius: 50%;\n",
              "      cursor: pointer;\n",
              "      display: none;\n",
              "      fill: #1967D2;\n",
              "      height: 32px;\n",
              "      padding: 0 0 0 0;\n",
              "      width: 32px;\n",
              "    }\n",
              "\n",
              "    .colab-df-convert:hover {\n",
              "      background-color: #E2EBFA;\n",
              "      box-shadow: 0px 1px 2px rgba(60, 64, 67, 0.3), 0px 1px 3px 1px rgba(60, 64, 67, 0.15);\n",
              "      fill: #174EA6;\n",
              "    }\n",
              "\n",
              "    [theme=dark] .colab-df-convert {\n",
              "      background-color: #3B4455;\n",
              "      fill: #D2E3FC;\n",
              "    }\n",
              "\n",
              "    [theme=dark] .colab-df-convert:hover {\n",
              "      background-color: #434B5C;\n",
              "      box-shadow: 0px 1px 3px 1px rgba(0, 0, 0, 0.15);\n",
              "      filter: drop-shadow(0px 1px 2px rgba(0, 0, 0, 0.3));\n",
              "      fill: #FFFFFF;\n",
              "    }\n",
              "  </style>\n",
              "\n",
              "      <script>\n",
              "        const buttonEl =\n",
              "          document.querySelector('#df-cd133d4f-8546-4123-8974-18857c92b4e9 button.colab-df-convert');\n",
              "        buttonEl.style.display =\n",
              "          google.colab.kernel.accessAllowed ? 'block' : 'none';\n",
              "\n",
              "        async function convertToInteractive(key) {\n",
              "          const element = document.querySelector('#df-cd133d4f-8546-4123-8974-18857c92b4e9');\n",
              "          const dataTable =\n",
              "            await google.colab.kernel.invokeFunction('convertToInteractive',\n",
              "                                                     [key], {});\n",
              "          if (!dataTable) return;\n",
              "\n",
              "          const docLinkHtml = 'Like what you see? Visit the ' +\n",
              "            '<a target=\"_blank\" href=https://colab.research.google.com/notebooks/data_table.ipynb>data table notebook</a>'\n",
              "            + ' to learn more about interactive tables.';\n",
              "          element.innerHTML = '';\n",
              "          dataTable['output_type'] = 'display_data';\n",
              "          await google.colab.output.renderOutput(dataTable, element);\n",
              "          const docLink = document.createElement('div');\n",
              "          docLink.innerHTML = docLinkHtml;\n",
              "          element.appendChild(docLink);\n",
              "        }\n",
              "      </script>\n",
              "    </div>\n",
              "  </div>\n",
              "  "
            ]
          },
          "metadata": {},
          "execution_count": 69
        }
      ]
    },
    {
      "cell_type": "code",
      "source": [
        "# for i in df.columns:\n",
        "#   # print(i)"
      ],
      "metadata": {
        "id": "ifsNzHvOlpdf"
      },
      "execution_count": 70,
      "outputs": []
    },
    {
      "cell_type": "code",
      "source": [
        "df_select = df[[\"case_status\", \"class_of_admission\",\"pw_level_9089\",\"us_economic_sector\"]]"
      ],
      "metadata": {
        "id": "xQE60rwv98_F"
      },
      "execution_count": 71,
      "outputs": []
    },
    {
      "cell_type": "code",
      "source": [
        "df_select = df_select.dropna(axis=0,how='any')\n",
        "df_select.head()"
      ],
      "metadata": {
        "colab": {
          "base_uri": "https://localhost:8080/",
          "height": 204
        },
        "id": "1Xhlsx8m0E02",
        "outputId": "f8a46181-8713-4596-abf8-dc7d9de17f6a"
      },
      "execution_count": 93,
      "outputs": [
        {
          "output_type": "execute_result",
          "data": {
            "text/plain": [
              "  case_status class_of_admission pw_level_9089     us_economic_sector\n",
              "0   Certified                J-1      Level II                     IT\n",
              "1      Denied                B-2       Level I  Other Economic Sector\n",
              "2   Certified               H-1B       Level I              Aerospace\n",
              "3   Certified                B-2      Level II  Other Economic Sector\n",
              "4   Certified                L-1      Level IV           Advanced Mfg"
            ],
            "text/html": [
              "\n",
              "  <div id=\"df-c3aea062-a060-403d-a97e-d8a5a33846fa\">\n",
              "    <div class=\"colab-df-container\">\n",
              "      <div>\n",
              "<style scoped>\n",
              "    .dataframe tbody tr th:only-of-type {\n",
              "        vertical-align: middle;\n",
              "    }\n",
              "\n",
              "    .dataframe tbody tr th {\n",
              "        vertical-align: top;\n",
              "    }\n",
              "\n",
              "    .dataframe thead th {\n",
              "        text-align: right;\n",
              "    }\n",
              "</style>\n",
              "<table border=\"1\" class=\"dataframe\">\n",
              "  <thead>\n",
              "    <tr style=\"text-align: right;\">\n",
              "      <th></th>\n",
              "      <th>case_status</th>\n",
              "      <th>class_of_admission</th>\n",
              "      <th>pw_level_9089</th>\n",
              "      <th>us_economic_sector</th>\n",
              "    </tr>\n",
              "  </thead>\n",
              "  <tbody>\n",
              "    <tr>\n",
              "      <th>0</th>\n",
              "      <td>Certified</td>\n",
              "      <td>J-1</td>\n",
              "      <td>Level II</td>\n",
              "      <td>IT</td>\n",
              "    </tr>\n",
              "    <tr>\n",
              "      <th>1</th>\n",
              "      <td>Denied</td>\n",
              "      <td>B-2</td>\n",
              "      <td>Level I</td>\n",
              "      <td>Other Economic Sector</td>\n",
              "    </tr>\n",
              "    <tr>\n",
              "      <th>2</th>\n",
              "      <td>Certified</td>\n",
              "      <td>H-1B</td>\n",
              "      <td>Level I</td>\n",
              "      <td>Aerospace</td>\n",
              "    </tr>\n",
              "    <tr>\n",
              "      <th>3</th>\n",
              "      <td>Certified</td>\n",
              "      <td>B-2</td>\n",
              "      <td>Level II</td>\n",
              "      <td>Other Economic Sector</td>\n",
              "    </tr>\n",
              "    <tr>\n",
              "      <th>4</th>\n",
              "      <td>Certified</td>\n",
              "      <td>L-1</td>\n",
              "      <td>Level IV</td>\n",
              "      <td>Advanced Mfg</td>\n",
              "    </tr>\n",
              "  </tbody>\n",
              "</table>\n",
              "</div>\n",
              "      <button class=\"colab-df-convert\" onclick=\"convertToInteractive('df-c3aea062-a060-403d-a97e-d8a5a33846fa')\"\n",
              "              title=\"Convert this dataframe to an interactive table.\"\n",
              "              style=\"display:none;\">\n",
              "        \n",
              "  <svg xmlns=\"http://www.w3.org/2000/svg\" height=\"24px\"viewBox=\"0 0 24 24\"\n",
              "       width=\"24px\">\n",
              "    <path d=\"M0 0h24v24H0V0z\" fill=\"none\"/>\n",
              "    <path d=\"M18.56 5.44l.94 2.06.94-2.06 2.06-.94-2.06-.94-.94-2.06-.94 2.06-2.06.94zm-11 1L8.5 8.5l.94-2.06 2.06-.94-2.06-.94L8.5 2.5l-.94 2.06-2.06.94zm10 10l.94 2.06.94-2.06 2.06-.94-2.06-.94-.94-2.06-.94 2.06-2.06.94z\"/><path d=\"M17.41 7.96l-1.37-1.37c-.4-.4-.92-.59-1.43-.59-.52 0-1.04.2-1.43.59L10.3 9.45l-7.72 7.72c-.78.78-.78 2.05 0 2.83L4 21.41c.39.39.9.59 1.41.59.51 0 1.02-.2 1.41-.59l7.78-7.78 2.81-2.81c.8-.78.8-2.07 0-2.86zM5.41 20L4 18.59l7.72-7.72 1.47 1.35L5.41 20z\"/>\n",
              "  </svg>\n",
              "      </button>\n",
              "      \n",
              "  <style>\n",
              "    .colab-df-container {\n",
              "      display:flex;\n",
              "      flex-wrap:wrap;\n",
              "      gap: 12px;\n",
              "    }\n",
              "\n",
              "    .colab-df-convert {\n",
              "      background-color: #E8F0FE;\n",
              "      border: none;\n",
              "      border-radius: 50%;\n",
              "      cursor: pointer;\n",
              "      display: none;\n",
              "      fill: #1967D2;\n",
              "      height: 32px;\n",
              "      padding: 0 0 0 0;\n",
              "      width: 32px;\n",
              "    }\n",
              "\n",
              "    .colab-df-convert:hover {\n",
              "      background-color: #E2EBFA;\n",
              "      box-shadow: 0px 1px 2px rgba(60, 64, 67, 0.3), 0px 1px 3px 1px rgba(60, 64, 67, 0.15);\n",
              "      fill: #174EA6;\n",
              "    }\n",
              "\n",
              "    [theme=dark] .colab-df-convert {\n",
              "      background-color: #3B4455;\n",
              "      fill: #D2E3FC;\n",
              "    }\n",
              "\n",
              "    [theme=dark] .colab-df-convert:hover {\n",
              "      background-color: #434B5C;\n",
              "      box-shadow: 0px 1px 3px 1px rgba(0, 0, 0, 0.15);\n",
              "      filter: drop-shadow(0px 1px 2px rgba(0, 0, 0, 0.3));\n",
              "      fill: #FFFFFF;\n",
              "    }\n",
              "  </style>\n",
              "\n",
              "      <script>\n",
              "        const buttonEl =\n",
              "          document.querySelector('#df-c3aea062-a060-403d-a97e-d8a5a33846fa button.colab-df-convert');\n",
              "        buttonEl.style.display =\n",
              "          google.colab.kernel.accessAllowed ? 'block' : 'none';\n",
              "\n",
              "        async function convertToInteractive(key) {\n",
              "          const element = document.querySelector('#df-c3aea062-a060-403d-a97e-d8a5a33846fa');\n",
              "          const dataTable =\n",
              "            await google.colab.kernel.invokeFunction('convertToInteractive',\n",
              "                                                     [key], {});\n",
              "          if (!dataTable) return;\n",
              "\n",
              "          const docLinkHtml = 'Like what you see? Visit the ' +\n",
              "            '<a target=\"_blank\" href=https://colab.research.google.com/notebooks/data_table.ipynb>data table notebook</a>'\n",
              "            + ' to learn more about interactive tables.';\n",
              "          element.innerHTML = '';\n",
              "          dataTable['output_type'] = 'display_data';\n",
              "          await google.colab.output.renderOutput(dataTable, element);\n",
              "          const docLink = document.createElement('div');\n",
              "          docLink.innerHTML = docLinkHtml;\n",
              "          element.appendChild(docLink);\n",
              "        }\n",
              "      </script>\n",
              "    </div>\n",
              "  </div>\n",
              "  "
            ]
          },
          "metadata": {},
          "execution_count": 93
        }
      ]
    },
    {
      "cell_type": "markdown",
      "source": [
        "# 3.) Clean your data for a decision tree\n"
      ],
      "metadata": {
        "id": "bIJx2jvD-KEI"
      }
    },
    {
      "cell_type": "code",
      "source": [
        "X = pd.get_dummies(df_select, \"class_of_admission\",\"pw_level_9089\",\"us_economic_sector\")\n",
        "y = df_select[\"case_status\"]"
      ],
      "metadata": {
        "id": "NvwomEoaGAgN"
      },
      "execution_count": 101,
      "outputs": []
    },
    {
      "cell_type": "code",
      "source": [
        "# X.columns"
      ],
      "metadata": {
        "id": "lVdJvr0x1ALD"
      },
      "execution_count": 83,
      "outputs": []
    },
    {
      "cell_type": "markdown",
      "source": [
        "# 4.) Fit and plot a decision tree of depth X\n"
      ],
      "metadata": {
        "id": "PeurmqI4-OoC"
      }
    },
    {
      "cell_type": "code",
      "source": [
        "from sklearn import tree"
      ],
      "metadata": {
        "id": "6BiA8EgJcYoY"
      },
      "execution_count": 84,
      "outputs": []
    },
    {
      "cell_type": "code",
      "source": [
        "clf = tree.DecisionTreeClassifier(max_depth = 3)\n",
        "clf.fit(X,y)"
      ],
      "metadata": {
        "id": "udwK0byx-RLA",
        "colab": {
          "base_uri": "https://localhost:8080/"
        },
        "outputId": "c073b287-f86d-4bfe-d404-1f7b42d5ec4d"
      },
      "execution_count": 102,
      "outputs": [
        {
          "output_type": "execute_result",
          "data": {
            "text/plain": [
              "DecisionTreeClassifier(max_depth=3)"
            ]
          },
          "metadata": {},
          "execution_count": 102
        }
      ]
    },
    {
      "cell_type": "code",
      "source": [
        "plt.figure(figsize = (20,8))\n",
        "tree.plot_tree(clf,feature_names = X.columns, class_names=y)"
      ],
      "metadata": {
        "id": "nHqdtuh6cSf-",
        "colab": {
          "base_uri": "https://localhost:8080/",
          "height": 585
        },
        "outputId": "402637fa-44e6-449c-9525-011584bbb3cf"
      },
      "execution_count": 61,
      "outputs": [
        {
          "output_type": "execute_result",
          "data": {
            "text/plain": [
              "[Text(0.6666666666666666, 0.875, 'pw_level_9089us_economic_sectorCertified <= 0.5\\ngini = 0.599\\nsamples = 374362\\nvalue = [181933, 148586, 25649, 18194]\\nclass = Certified'),\n",
              " Text(0.5, 0.625, 'pw_level_9089us_economic_sectorCertified-Expired <= 0.5\\ngini = 0.377\\nsamples = 192429\\nvalue = [0, 148586, 25649, 18194]\\nclass = Denied'),\n",
              " Text(0.3333333333333333, 0.375, 'pw_level_9089us_economic_sectorDenied <= 0.5\\ngini = 0.486\\nsamples = 43843\\nvalue = [0, 0, 25649, 18194]\\nclass = Certified'),\n",
              " Text(0.16666666666666666, 0.125, 'gini = 0.0\\nsamples = 18194\\nvalue = [0, 0, 0, 18194]\\nclass = Certified'),\n",
              " Text(0.5, 0.125, 'gini = 0.0\\nsamples = 25649\\nvalue = [0, 0, 25649, 0]\\nclass = Certified'),\n",
              " Text(0.6666666666666666, 0.375, 'gini = 0.0\\nsamples = 148586\\nvalue = [0, 148586, 0, 0]\\nclass = Denied'),\n",
              " Text(0.8333333333333334, 0.625, 'gini = 0.0\\nsamples = 181933\\nvalue = [181933, 0, 0, 0]\\nclass = Certified')]"
            ]
          },
          "metadata": {},
          "execution_count": 61
        },
        {
          "output_type": "display_data",
          "data": {
            "text/plain": [
              "<Figure size 1440x576 with 1 Axes>"
            ],
            "image/png": "[encoded data removed]"
          },
          "metadata": {
            "needs_background": "light"
          }
        }
      ]
    },
    {
      "cell_type": "markdown",
      "source": [
        "# 5.) Write your interpretation of the largest (by sample size) leaf node\n"
      ],
      "metadata": {
        "id": "6isBwtmL-R4p"
      }
    },
    {
      "cell_type": "markdown",
      "source": [
        "The largest sameple size in leaf node is 181933, which means when class_of admission_pw_level less equal than 0.5, there are 181933 samples in this class. \n",
        "25694< PWlevel9089 < 181933 the class is certified, other wise they are not certified."
      ],
      "metadata": {
        "id": "DDY4ZW8UvX0l"
      }
    },
    {
      "cell_type": "code",
      "source": [
        "# If they are not certified ....\n"
      ],
      "metadata": {
        "id": "sgDPicU8IvPv"
      },
      "execution_count": 62,
      "outputs": []
    },
    {
      "cell_type": "markdown",
      "source": [
        "# 6.) Using a for loop, make your own train-test split and determine the best max_depth for out-of sample accuracy"
      ],
      "metadata": {
        "id": "aQa3sanl-XUk"
      }
    },
    {
      "cell_type": "code",
      "source": [
        "from sklearn.model_selection import train_test_split \n",
        "from sklearn.metrics import accuracy_score\n",
        "max_depths=range(1,50)\n",
        "outputs = []\n",
        "\n",
        "X_train,X_test,y_train,y_test=train_test_split(X, y,test_size=0.3,random_state=0)\n",
        "\n",
        "for md in max_depths:\n",
        "  clf = tree.DecisionTreeClassifier(max_depth = md)\n",
        "  clf.fit(X_train,y_train)\n",
        "\n",
        "  oos_accuracy=accuracy_score(y_test,clf.predict(X_test))\n",
        "  outputs.append(oos_accuracy)"
      ],
      "metadata": {
        "id": "9QA-y6HCslBR"
      },
      "execution_count": 63,
      "outputs": []
    },
    {
      "cell_type": "code",
      "source": [
        "outputs"
      ],
      "metadata": {
        "id": "vVaHpqf9wHj7",
        "colab": {
          "base_uri": "https://localhost:8080/"
        },
        "outputId": "769dbe75-4881-48d8-b7a6-68736463c5c7"
      },
      "execution_count": 64,
      "outputs": [
        {
          "output_type": "execute_result",
          "data": {
            "text/plain": [
              "[0.8809534409530848,\n",
              " 0.9505916711928697,\n",
              " 1.0,\n",
              " 1.0,\n",
              " 1.0,\n",
              " 1.0,\n",
              " 1.0,\n",
              " 1.0,\n",
              " 1.0,\n",
              " 1.0,\n",
              " 1.0,\n",
              " 1.0,\n",
              " 1.0,\n",
              " 1.0,\n",
              " 1.0,\n",
              " 1.0,\n",
              " 1.0,\n",
              " 1.0,\n",
              " 1.0,\n",
              " 1.0,\n",
              " 1.0,\n",
              " 1.0,\n",
              " 1.0,\n",
              " 1.0,\n",
              " 1.0,\n",
              " 1.0,\n",
              " 1.0,\n",
              " 1.0,\n",
              " 1.0,\n",
              " 1.0,\n",
              " 1.0,\n",
              " 1.0,\n",
              " 1.0,\n",
              " 1.0,\n",
              " 1.0,\n",
              " 1.0,\n",
              " 1.0,\n",
              " 1.0,\n",
              " 1.0,\n",
              " 1.0,\n",
              " 1.0,\n",
              " 1.0,\n",
              " 1.0,\n",
              " 1.0,\n",
              " 1.0,\n",
              " 1.0,\n",
              " 1.0,\n",
              " 1.0,\n",
              " 1.0]"
            ]
          },
          "metadata": {},
          "execution_count": 64
        }
      ]
    },
    {
      "cell_type": "markdown",
      "source": [
        "highest accuracy is 3 depth\n"
      ],
      "metadata": {
        "id": "8ToO-WkLVt6B"
      }
    }
  ]
}